{
  "nbformat": 4,
  "nbformat_minor": 0,
  "metadata": {
    "colab": {
      "provenance": [],
      "include_colab_link": true
    },
    "kernelspec": {
      "name": "python3",
      "display_name": "Python 3"
    },
    "language_info": {
      "name": "python"
    }
  },
  "cells": [
    {
      "cell_type": "markdown",
      "metadata": {
        "id": "view-in-github",
        "colab_type": "text"
      },
      "source": [
        "<a href=\"https://colab.research.google.com/github/auliaacahyaa/Machine-Learning/blob/main/Kuis_1_ML.ipynb\" target=\"_parent\"><img src=\"https://colab.research.google.com/assets/colab-badge.svg\" alt=\"Open In Colab\"/></a>"
      ]
    },
    {
      "cell_type": "code",
      "execution_count": null,
      "metadata": {
        "colab": {
          "base_uri": "https://localhost:8080/"
        },
        "id": "69Oe3iyAQvfr",
        "outputId": "46dd5ecb-2ebf-4af1-a9b3-ac73de810add"
      },
      "outputs": [
        {
          "output_type": "stream",
          "name": "stderr",
          "text": [
            "/usr/local/lib/python3.10/dist-packages/sklearn/datasets/_openml.py:968: FutureWarning: The default value of `parser` will change from `'liac-arff'` to `'auto'` in 1.4. You can set `parser='auto'` to silence this warning. Therefore, an `ImportError` will be raised from 1.4 if the dataset is dense and pandas is not installed. Note that the pandas parser may return different data types. See the Notes Section in fetch_openml's API doc for details.\n",
            "  warn(\n"
          ]
        },
        {
          "output_type": "stream",
          "name": "stdout",
          "text": [
            "**Author**: Yann LeCun, Corinna Cortes, Christopher J.C. Burges  \n",
            "**Source**: [MNIST Website](http://yann.lecun.com/exdb/mnist/) - Date unknown  \n",
            "**Please cite**:  \n",
            "\n",
            "The MNIST database of handwritten digits with 784 features, raw data available at: http://yann.lecun.com/exdb/mnist/. It can be split in a training set of the first 60,000 examples, and a test set of 10,000 examples  \n",
            "\n",
            "It is a subset of a larger set available from NIST. The digits have been size-normalized and centered in a fixed-size image. It is a good database for people who want to try learning techniques and pattern recognition methods on real-world data while spending minimal efforts on preprocessing and formatting. The original black and white (bilevel) images from NIST were size normalized to fit in a 20x20 pixel box while preserving their aspect ratio. The resulting images contain grey levels as a result of the anti-aliasing technique used by the normalization algorithm. the images were centered in a 28x28 image by computing the center of mass of the pixels, and translating the image so as to position this point at the center of the 28x28 field.  \n",
            "\n",
            "With some classification methods (particularly template-based methods, such as SVM and K-nearest neighbors), the error rate improves when the digits are centered by bounding box rather than center of mass. If you do this kind of pre-processing, you should report it in your publications. The MNIST database was constructed from NIST's NIST originally designated SD-3 as their training set and SD-1 as their test set. However, SD-3 is much cleaner and easier to recognize than SD-1. The reason for this can be found on the fact that SD-3 was collected among Census Bureau employees, while SD-1 was collected among high-school students. Drawing sensible conclusions from learning experiments requires that the result be independent of the choice of training set and test among the complete set of samples. Therefore it was necessary to build a new database by mixing NIST's datasets.  \n",
            "\n",
            "The MNIST training set is composed of 30,000 patterns from SD-3 and 30,000 patterns from SD-1. Our test set was composed of 5,000 patterns from SD-3 and 5,000 patterns from SD-1. The 60,000 pattern training set contained examples from approximately 250 writers. We made sure that the sets of writers of the training set and test set were disjoint. SD-1 contains 58,527 digit images written by 500 different writers. In contrast to SD-3, where blocks of data from each writer appeared in sequence, the data in SD-1 is scrambled. Writer identities for SD-1 is available and we used this information to unscramble the writers. We then split SD-1 in two: characters written by the first 250 writers went into our new training set. The remaining 250 writers were placed in our test set. Thus we had two sets with nearly 30,000 examples each. The new training set was completed with enough examples from SD-3, starting at pattern # 0, to make a full set of 60,000 training patterns. Similarly, the new test set was completed with SD-3 examples starting at pattern # 35,000 to make a full set with 60,000 test patterns. Only a subset of 10,000 test images (5,000 from SD-1 and 5,000 from SD-3) is available on this site. The full 60,000 sample training set is available.\n",
            "\n",
            "Downloaded from openml.org.\n"
          ]
        },
        {
          "output_type": "execute_result",
          "data": {
            "text/plain": [
              "dict_keys(['data', 'target', 'frame', 'categories', 'feature_names', 'target_names', 'DESCR', 'details', 'url'])"
            ]
          },
          "metadata": {},
          "execution_count": 1
        }
      ],
      "source": [
        "# Unduh Dataset MNIST\n",
        "from sklearn.datasets import fetch_openml\n",
        "mnist = fetch_openml('mnist_784')\n",
        "\n",
        "# Baca deskripsi dataset\n",
        "# Tahap ini mungkin diperlukan untuk lebih memahami dataset\n",
        "print(mnist.DESCR)\n",
        "\n",
        "# Inspeksi semua key dalam dataset\n",
        "# Cara ini digunakan untuk memahami struktur dari dataset MNIST\n",
        "mnist.keys()"
      ]
    },
    {
      "cell_type": "markdown",
      "source": [
        "no 1"
      ],
      "metadata": {
        "id": "ShOyTI0_RHPS"
      }
    },
    {
      "cell_type": "code",
      "source": [
        "import numpy as np\n",
        "from sklearn.datasets import fetch_openml\n",
        "import matplotlib.pyplot as plt\n",
        "import pandas as pd\n",
        "\n",
        "# Mengonversi data MNIST ke dalam bentuk DataFrame\n",
        "df = pd.DataFrame(data=mnist.data, columns=[f'pixel_{i}' for i in range(784)])\n",
        "df['target'] = mnist.target.astype(int) # Menambahkan kolom target sebagai label\n",
        "\n",
        "# Hitung jumlah data setiap label\n",
        "label_counts = df['target'].value_counts().sort_index()\n",
        "\n",
        "# Tampilkan hasil perhitungan dengan label dan \"jumlah data\"\n",
        "print(\"Label  Jumlah Data\")\n",
        "for label, count in label_counts.iteritems():\n",
        "    print(f\"{label}      {count}\")\n",
        "\n",
        "# Menampilkan informasi tentang ketidakseimbangan data\n",
        "print('Apakah terdapat data imbalance?')\n",
        "print('Ya' if np.max(label_counts) - np.min(label_counts) > 1000 else 'Tidak')\n",
        "\n",
        "# Menampilkan grafik batang untuk visualisasi\n",
        "plt.figure(figsize=(8, 5))\n",
        "plt.bar(label_counts.index, label_counts.values)\n",
        "plt.xlabel('Label Angka')\n",
        "plt.ylabel('Jumlah Data')\n",
        "plt.title('Jumlah Data Setiap Label Angka dalam MNIST')\n",
        "plt.xticks(label_counts.index)"
      ],
      "metadata": {
        "colab": {
          "base_uri": "https://localhost:8080/",
          "height": 1000
        },
        "id": "lZcAQ5WfRJQf",
        "outputId": "a3be5fd2-fd70-46fb-c7d2-84f0961a4372"
      },
      "execution_count": null,
      "outputs": [
        {
          "output_type": "stream",
          "name": "stdout",
          "text": [
            "Label  Jumlah Data\n",
            "0      6903\n",
            "1      7877\n",
            "2      6990\n",
            "3      7141\n",
            "4      6824\n",
            "5      6313\n",
            "6      6876\n",
            "7      7293\n",
            "8      6825\n",
            "9      6958\n",
            "Apakah terdapat data imbalance?\n",
            "Ya\n"
          ]
        },
        {
          "output_type": "stream",
          "name": "stderr",
          "text": [
            "<ipython-input-4-20bc99dd1e6e>:15: FutureWarning: iteritems is deprecated and will be removed in a future version. Use .items instead.\n",
            "  for label, count in label_counts.iteritems():\n"
          ]
        },
        {
          "output_type": "execute_result",
          "data": {
            "text/plain": [
              "([<matplotlib.axis.XTick at 0x7b193973a7a0>,\n",
              "  <matplotlib.axis.XTick at 0x7b193973a4a0>,\n",
              "  <matplotlib.axis.XTick at 0x7b193973a260>,\n",
              "  <matplotlib.axis.XTick at 0x7b18ce562740>,\n",
              "  <matplotlib.axis.XTick at 0x7b18ce560d00>,\n",
              "  <matplotlib.axis.XTick at 0x7b18ce560dc0>,\n",
              "  <matplotlib.axis.XTick at 0x7b18ce563580>,\n",
              "  <matplotlib.axis.XTick at 0x7b18ce562cb0>,\n",
              "  <matplotlib.axis.XTick at 0x7b193966c5e0>,\n",
              "  <matplotlib.axis.XTick at 0x7b193966dff0>],\n",
              " [Text(0, 0, '0'),\n",
              "  Text(1, 0, '1'),\n",
              "  Text(2, 0, '2'),\n",
              "  Text(3, 0, '3'),\n",
              "  Text(4, 0, '4'),\n",
              "  Text(5, 0, '5'),\n",
              "  Text(6, 0, '6'),\n",
              "  Text(7, 0, '7'),\n",
              "  Text(8, 0, '8'),\n",
              "  Text(9, 0, '9')])"
            ]
          },
          "metadata": {},
          "execution_count": 4
        },
        {
          "output_type": "display_data",
          "data": {
            "text/plain": [
              "<Figure size 800x500 with 1 Axes>"
            ],
            "image/png": "[encoded data removed]"
          },
          "metadata": {}
        }
      ]
    },
    {
      "cell_type": "code",
      "source": [
        "from imblearn.over_sampling import RandomOverSampler\n",
        "import numpy as np\n",
        "from sklearn.model_selection import train_test_split\n",
        "\n",
        "# Hitung jumlah data setiap label\n",
        "X = df.drop(columns=['target'])\n",
        "y = df['target']\n",
        "\n",
        "# Menentukan rasio oversampling untuk setiap kelas\n",
        "oversampler = RandomOverSampler(random_state=42)\n",
        "\n",
        "# Menggunakan RandomOverSampler untuk melakukan oversampling\n",
        "X_resampled, y_resampled = oversampler.fit_resample(X, y)\n",
        "\n",
        "# Menghitung jumlah data setelah oversampling\n",
        "label_counts_resampled = pd.Series(y_resampled).value_counts().sort_index()\n",
        "\n",
        "# Menampilkan hasil perhitungan dengan label dan \"jumlah data\" setelah oversampling\n",
        "print(\"Label  Jumlah Data Setelah Oversampling\")\n",
        "for label, count in label_counts_resampled.iteritems():\n",
        "    print(f\"{label}      {count}\")\n",
        "\n",
        "# Menampilkan grafik batang untuk visualisasi setelah oversampling\n",
        "plt.figure(figsize=(8, 5))\n",
        "plt.bar(label_counts_resampled.index, label_counts_resampled.values)\n",
        "plt.xlabel('Label Angka')\n",
        "plt.ylabel('Jumlah Data Setelah Oversampling')\n",
        "plt.title('Jumlah Data Setiap Label Angka Setelah Oversampling dalam MNIST')\n",
        "plt.xticks(label_counts_resampled.index)\n",
        "plt.show()\n",
        "\n",
        "class_counts = np.bincount(y_resampled)\n",
        "majority_class_count = np.max(class_counts)\n",
        "minority_class_count = np.min(class_counts)\n",
        "\n",
        "# Hitung rasio kelas\n",
        "class_ratio = majority_class_count / minority_class_count\n",
        "\n",
        "print(f\"Rasio Kelas: {class_ratio:.2f}\")"
      ],
      "metadata": {
        "colab": {
          "base_uri": "https://localhost:8080/",
          "height": 244
        },
        "id": "7CbLDwwKshXb",
        "outputId": "aad39a62-c1c2-4c8a-90aa-bd42c17451d7"
      },
      "execution_count": null,
      "outputs": [
        {
          "output_type": "error",
          "ename": "NameError",
          "evalue": "ignored",
          "traceback": [
            "\u001b[0;31m---------------------------------------------------------------------------\u001b[0m",
            "\u001b[0;31mNameError\u001b[0m                                 Traceback (most recent call last)",
            "\u001b[0;32m<ipython-input-3-76271b337257>\u001b[0m in \u001b[0;36m<cell line: 6>\u001b[0;34m()\u001b[0m\n\u001b[1;32m      4\u001b[0m \u001b[0;34m\u001b[0m\u001b[0m\n\u001b[1;32m      5\u001b[0m \u001b[0;31m# Hitung jumlah data setiap label\u001b[0m\u001b[0;34m\u001b[0m\u001b[0;34m\u001b[0m\u001b[0m\n\u001b[0;32m----> 6\u001b[0;31m \u001b[0mX\u001b[0m \u001b[0;34m=\u001b[0m \u001b[0mdf\u001b[0m\u001b[0;34m.\u001b[0m\u001b[0mdrop\u001b[0m\u001b[0;34m(\u001b[0m\u001b[0mcolumns\u001b[0m\u001b[0;34m=\u001b[0m\u001b[0;34m[\u001b[0m\u001b[0;34m'target'\u001b[0m\u001b[0;34m]\u001b[0m\u001b[0;34m)\u001b[0m\u001b[0;34m\u001b[0m\u001b[0;34m\u001b[0m\u001b[0m\n\u001b[0m\u001b[1;32m      7\u001b[0m \u001b[0my\u001b[0m \u001b[0;34m=\u001b[0m \u001b[0mdf\u001b[0m\u001b[0;34m[\u001b[0m\u001b[0;34m'target'\u001b[0m\u001b[0;34m]\u001b[0m\u001b[0;34m\u001b[0m\u001b[0;34m\u001b[0m\u001b[0m\n\u001b[1;32m      8\u001b[0m \u001b[0;34m\u001b[0m\u001b[0m\n",
            "\u001b[0;31mNameError\u001b[0m: name 'df' is not defined"
          ]
        }
      ]
    },
    {
      "cell_type": "markdown",
      "source": [
        "no 2"
      ],
      "metadata": {
        "id": "ReBHbCKaRNnf"
      }
    },
    {
      "cell_type": "code",
      "source": [
        "from sklearn.datasets import fetch_openml\n",
        "import matplotlib.pyplot as plt\n",
        "\n",
        "# Pisahkan fitur (X) dan target (y)\n",
        "X = mnist.data\n",
        "y = mnist.target.astype(int)\n",
        "\n",
        "# Menampilkan 15 citra pertama berserta labelnya\n",
        "plt.figure(figsize=(12, 6))\n",
        "for i in range(15):\n",
        "    plt.subplot(3, 5, i + 1)\n",
        "    plt.imshow(X.iloc[i].values.reshape(28, 28), cmap='gray')\n",
        "    plt.title(f'Label: {y[i]}')\n",
        "    plt.axis('off')\n",
        "plt.show()"
      ],
      "metadata": {
        "colab": {
          "base_uri": "https://localhost:8080/",
          "height": 521
        },
        "id": "iPk1usQoROsD",
        "outputId": "35c1e103-95e1-4424-a4f4-32abb85309fc"
      },
      "execution_count": null,
      "outputs": [
        {
          "output_type": "display_data",
          "data": {
            "text/plain": [
              "<Figure size 1200x600 with 15 Axes>"
            ],
            "image/png": "[encoded data removed]"
          },
          "metadata": {}
        }
      ]
    },
    {
      "cell_type": "markdown",
      "source": [
        "no 3"
      ],
      "metadata": {
        "id": "bmOhYxQkRTpP"
      }
    },
    {
      "cell_type": "code",
      "source": [
        "from sklearn.datasets import fetch_openml\n",
        "from sklearn.model_selection import train_test_split\n",
        "\n",
        "# Membagi dataset menjadi data latih dan data uji\n",
        "X_train, X_test, y_train, y_test = train_test_split(X, y, test_size=0.2, random_state=42)\n",
        "\n",
        "# Normalisasi nilai piksel ke rentang 0 hingga 1\n",
        "X_train = X_train.astype('float32') / 255.0\n",
        "X_test = X_test.astype('float32') / 255.0\n",
        "\n",
        "# Sekarang, X_train adalah matriks fitur dengan setiap baris adalah vektor fitur dari satu citra"
      ],
      "metadata": {
        "id": "qSdkHvyARVOB"
      },
      "execution_count": null,
      "outputs": []
    },
    {
      "cell_type": "code",
      "source": [
        "import numpy as np\n",
        "import matplotlib.pyplot as plt\n",
        "from sklearn.datasets import fetch_openml\n",
        "\n",
        "# Ambil salah satu citra sebagai contoh\n",
        "sample_image = X.iloc[0].values.reshape(28, 28)  # Ambil citra pertama\n",
        "\n",
        "# Fungsi untuk menghitung histogram citra\n",
        "def compute_histogram(image):\n",
        "    # Hitung histogram citra dengan 256 bin (untuk gambar grayscale)\n",
        "    hist, _ = np.histogram(image, bins=256, range=(0, 256))\n",
        "    return hist\n",
        "\n",
        "# Hitung histogram dari citra contoh\n",
        "sample_histogram = compute_histogram(sample_image)\n",
        "\n",
        "# Tampilkan histogram dari citra contoh\n",
        "plt.figure(figsize=(8, 4))\n",
        "plt.plot(sample_histogram)\n",
        "plt.title(\"Histogram dari Satu Citra MNIST\")\n",
        "plt.xlabel(\"Nilai Piksel\")\n",
        "plt.ylabel(\"Frekuensi\")\n",
        "plt.show()"
      ],
      "metadata": {
        "colab": {
          "base_uri": "https://localhost:8080/",
          "height": 410
        },
        "id": "1ztmy1DARk4A",
        "outputId": "ab6b801f-b484-4dac-bd60-9d5e40621817"
      },
      "execution_count": null,
      "outputs": [
        {
          "output_type": "display_data",
          "data": {
            "text/plain": [
              "<Figure size 800x400 with 1 Axes>"
            ],
            "image/png": "[encoded data removed]"
          },
          "metadata": {}
        }
      ]
    },
    {
      "cell_type": "markdown",
      "source": [
        "no 4"
      ],
      "metadata": {
        "id": "Qnve_XjYRrQG"
      }
    },
    {
      "cell_type": "code",
      "source": [
        "from sklearn.datasets import fetch_openml\n",
        "from sklearn.model_selection import train_test_split\n",
        "\n",
        "# Pisahkan fitur (X) dan target (y)\n",
        "X = mnist.data\n",
        "y = mnist.target\n",
        "\n",
        "# Bagi dataset menjadi data latih dan data uji dengan rasio yang berbeda\n",
        "# 70:30\n",
        "X_train_1, X_test_1, y_train_1, y_test_1 = train_test_split(X, y, test_size=0.3, random_state=42)\n",
        "# Tampilkan ukuran setiap bagian data\n",
        "print(\"Rasio 70:30\")\n",
        "print(\"Data Training:\", X_train_1.shape, y_train_1.shape)\n",
        "print(\"Data Testing:\", X_test_1.shape, y_test_1.shape)\n",
        "print(\"\")"
      ],
      "metadata": {
        "colab": {
          "base_uri": "https://localhost:8080/"
        },
        "id": "dbzsrH4pbf4m",
        "outputId": "16407628-b44d-4b1c-e1fa-c7c6739036c5"
      },
      "execution_count": null,
      "outputs": [
        {
          "output_type": "stream",
          "name": "stdout",
          "text": [
            "Rasio 70:30\n",
            "Data Training: (49000, 784) (49000,)\n",
            "Data Testing: (21000, 784) (21000,)\n",
            "\n"
          ]
        }
      ]
    },
    {
      "cell_type": "code",
      "source": [
        "from sklearn.datasets import fetch_openml\n",
        "from sklearn.model_selection import train_test_split\n",
        "\n",
        "# Pisahkan fitur (X) dan target (y)\n",
        "X = mnist.data\n",
        "y = mnist.target\n",
        "\n",
        "# Bagi dataset menjadi data latih dan data uji dengan rasio yang berbeda\n",
        "# 70:30\n",
        "X_train_2, X_test_2, y_train_2, y_test_2 = train_test_split(X, y, test_size=0.2, random_state=42)\n",
        "# Tampilkan ukuran setiap bagian data\n",
        "print(\"Rasio 80:20\")\n",
        "print(\"Data Training:\", X_train_2.shape, y_train_2.shape)\n",
        "print(\"Data Testing:\", X_test_2.shape, y_test_2.shape)\n",
        "print(\"\")"
      ],
      "metadata": {
        "colab": {
          "base_uri": "https://localhost:8080/"
        },
        "id": "M2AVYKAfc7Rm",
        "outputId": "5ac11997-1d04-4e76-f337-11676a2cfaa3"
      },
      "execution_count": null,
      "outputs": [
        {
          "output_type": "stream",
          "name": "stdout",
          "text": [
            "Rasio 80:20\n",
            "Data Training: (56000, 784) (56000,)\n",
            "Data Testing: (14000, 784) (14000,)\n",
            "\n"
          ]
        }
      ]
    },
    {
      "cell_type": "code",
      "source": [
        "from sklearn.datasets import fetch_openml\n",
        "from sklearn.model_selection import train_test_split\n",
        "\n",
        "# Pisahkan fitur (X) dan target (y)\n",
        "X = mnist.data\n",
        "y = mnist.target\n",
        "\n",
        "# Bagi dataset menjadi data latih dan data uji dengan rasio yang berbeda\n",
        "# 70:30\n",
        "X_train_3, X_test_3, y_train_3, y_test_3 = train_test_split(X, y, test_size=0.2, random_state=42)\n",
        "# Tampilkan ukuran setiap bagian data\n",
        "print(\"Rasio 80:20\")\n",
        "print(\"Data Training:\", X_train_3.shape, y_train_3.shape)\n",
        "print(\"Data Testing:\", X_test_3.shape, y_test_3.shape)\n",
        "print(\"\")"
      ],
      "metadata": {
        "colab": {
          "base_uri": "https://localhost:8080/"
        },
        "id": "W4_BpbmsdEgn",
        "outputId": "7a70263f-b536-4192-b076-c5f1b8262d33"
      },
      "execution_count": null,
      "outputs": [
        {
          "output_type": "stream",
          "name": "stdout",
          "text": [
            "Rasio 80:20\n",
            "Data Training: (56000, 784) (56000,)\n",
            "Data Testing: (14000, 784) (14000,)\n",
            "\n"
          ]
        }
      ]
    },
    {
      "cell_type": "markdown",
      "source": [
        "no 5"
      ],
      "metadata": {
        "id": "C4Ji-mFIUK7U"
      }
    },
    {
      "cell_type": "code",
      "source": [
        "from sklearn.preprocessing import StandardScaler\n",
        "from sklearn.naive_bayes import GaussianNB\n",
        "from sklearn.svm import SVC\n",
        "from sklearn.metrics import accuracy_score"
      ],
      "metadata": {
        "id": "dQEZ1QpPUL1b"
      },
      "execution_count": null,
      "outputs": []
    },
    {
      "cell_type": "code",
      "source": [
        "scaler = StandardScaler()\n",
        "X_train_scaled = scaler.fit_transform(X_train)\n",
        "X_test_scaled = scaler.transform(X_test)"
      ],
      "metadata": {
        "id": "2dfAhAPKdp48"
      },
      "execution_count": null,
      "outputs": []
    },
    {
      "cell_type": "markdown",
      "source": [
        "**NAIVE BAYES**"
      ],
      "metadata": {
        "id": "mL_KBqe3DfFH"
      }
    },
    {
      "cell_type": "code",
      "source": [
        "# Klasifikasi dengan Naive Bayes (70 : 30)\n",
        "naive_bayes = GaussianNB()\n",
        "naive_bayes.fit(X_train_1, y_train_1)\n",
        "y_pred_nb = naive_bayes.predict(X_test_1)\n",
        "accuracy_nb = accuracy_score(y_test_1, y_pred_nb)\n",
        "print(\"Akurasi Naive Bayes:\",accuracy_nb)"
      ],
      "metadata": {
        "colab": {
          "base_uri": "https://localhost:8080/"
        },
        "id": "Tg3CMTm93pgQ",
        "outputId": "bf344771-664e-437a-8f9d-f32c7810f63d"
      },
      "execution_count": null,
      "outputs": [
        {
          "output_type": "stream",
          "name": "stdout",
          "text": [
            "Akurasi Naive Bayes: 0.550952380952381\n"
          ]
        }
      ]
    },
    {
      "cell_type": "code",
      "source": [
        "# Klasifikasi dengan Naive Bayes (80 : 20)\n",
        "naive_bayes = GaussianNB()\n",
        "naive_bayes.fit(X_train_2, y_train_2)\n",
        "y_pred_nb = naive_bayes.predict(X_test_2)\n",
        "accuracy_nb = accuracy_score(y_test_2, y_pred_nb)\n",
        "print(\"Akurasi Naive Bayes:\",accuracy_nb)"
      ],
      "metadata": {
        "colab": {
          "base_uri": "https://localhost:8080/"
        },
        "id": "WFwQ3u1rDDmY",
        "outputId": "29aab4a3-2368-42b6-891e-5e31fc8172f1"
      },
      "execution_count": null,
      "outputs": [
        {
          "output_type": "stream",
          "name": "stdout",
          "text": [
            "Akurasi Naive Bayes: 0.5515714285714286\n"
          ]
        }
      ]
    },
    {
      "cell_type": "code",
      "source": [
        "# Klasifikasi dengan Naive Bayes (90 : 10)\n",
        "naive_bayes = GaussianNB()\n",
        "naive_bayes.fit(X_train_3, y_train_3)\n",
        "y_pred_nb = naive_bayes.predict(X_test_3)\n",
        "accuracy_nb = accuracy_score(y_test_3, y_pred_nb)\n",
        "print(\"Akurasi Naive Bayes:\", accuracy_nb)"
      ],
      "metadata": {
        "colab": {
          "base_uri": "https://localhost:8080/"
        },
        "id": "gvJ4hz81OEBF",
        "outputId": "390ff035-ea5d-427d-f102-c5a68f913d68"
      },
      "execution_count": null,
      "outputs": [
        {
          "output_type": "stream",
          "name": "stdout",
          "text": [
            "Akurasi Naive Bayes: 0.5515714285714286\n"
          ]
        }
      ]
    },
    {
      "cell_type": "markdown",
      "source": [
        "**SVM**"
      ],
      "metadata": {
        "id": "3IT33o9eDjhS"
      }
    },
    {
      "cell_type": "code",
      "source": [
        "# Untuk data (70 : 30)\n",
        "from sklearn.preprocessing import StandardScaler\n",
        "from sklearn.svm import SVC\n",
        "from sklearn.metrics import accuracy_score, classification_report\n",
        "\n",
        "scaler = StandardScaler()\n",
        "X_train_1 = scaler.fit_transform(X_train_1)\n",
        "X_test_1 = scaler.transform(X_test_1)\n",
        "\n",
        "svm_classifier = SVC(kernel='linear', C=1.0, random_state=42)\n",
        "svm_classifier.fit(X_train_1, y_train_1)\n",
        "\n",
        "y_pred = svm_classifier.predict(X_test_1)\n",
        "accuracy = accuracy_score(y_test_1, y_pred)\n",
        "report = classification_report(y_test_1, y_pred)\n",
        "print(f'Accuracy: {accuracy}')"
      ],
      "metadata": {
        "colab": {
          "base_uri": "https://localhost:8080/"
        },
        "id": "jQgMeB9gUjPQ",
        "outputId": "f3552c28-be84-45fc-8560-b1a5b6b02ba6"
      },
      "execution_count": null,
      "outputs": [
        {
          "output_type": "stream",
          "name": "stdout",
          "text": [
            "Accuracy: 0.92\n"
          ]
        }
      ]
    },
    {
      "cell_type": "code",
      "source": [
        "# Untuk data (80 : 20)\n",
        "from sklearn.preprocessing import StandardScaler\n",
        "from sklearn.svm import SVC\n",
        "from sklearn.metrics import accuracy_score, classification_report\n",
        "\n",
        "\n",
        "scaler = StandardScaler()\n",
        "X_train_2 = scaler.fit_transform(X_train_2)\n",
        "X_test_2 = scaler.transform(X_test_2)\n",
        "\n",
        "svm_classifier = SVC(kernel='linear', C=1.0, random_state=42)\n",
        "svm_classifier.fit(X_train_2, y_train_2)\n",
        "\n",
        "y_pred = svm_classifier.predict(X_test_2)\n",
        "accuracy = accuracy_score(y_test_2, y_pred)\n",
        "report = classification_report(y_test_2, y_pred)\n",
        "print(f'Accuracy: {accuracy}')"
      ],
      "metadata": {
        "colab": {
          "base_uri": "https://localhost:8080/"
        },
        "id": "2-sCZM8XDu9H",
        "outputId": "3c6a2af6-20e3-4717-fb9d-fd8f1f22bad9"
      },
      "execution_count": null,
      "outputs": [
        {
          "output_type": "stream",
          "name": "stdout",
          "text": [
            "Accuracy: 0.9210714285714285\n"
          ]
        }
      ]
    },
    {
      "cell_type": "code",
      "source": [
        "# Untuk data (90 : 10)\n",
        "from sklearn.preprocessing import StandardScaler\n",
        "from sklearn.svm import SVC\n",
        "from sklearn.metrics import accuracy_score, classification_report\n",
        "\n",
        "scaler = StandardScaler()\n",
        "X_train_3 = scaler.fit_transform(X_train_3)\n",
        "X_test_3 = scaler.transform(X_test_3)\n",
        "\n",
        "svm_classifier = SVC(kernel='linear', C=1.0, random_state=42)\n",
        "svm_classifier.fit(X_train_3, y_train_3)\n",
        "\n",
        "y_pred = svm_classifier.predict(X_test_3)\n",
        "accuracy = accuracy_score(y_test_3, y_pred)\n",
        "report = classification_report(y_test_3, y_pred)\n",
        "print(f'Accuracy: {accuracy}')"
      ],
      "metadata": {
        "colab": {
          "base_uri": "https://localhost:8080/"
        },
        "id": "qUL09SndHqkc",
        "outputId": "a7572672-4015-4240-87cb-8bc116a49513"
      },
      "execution_count": null,
      "outputs": [
        {
          "output_type": "stream",
          "name": "stdout",
          "text": [
            "Accuracy: 0.9210714285714285\n"
          ]
        }
      ]
    },
    {
      "cell_type": "markdown",
      "source": [
        "no 6"
      ],
      "metadata": {
        "id": "bWuC26xwVM4r"
      }
    },
    {
      "cell_type": "code",
      "source": [
        "# Untuk Data (70 : 30)\n",
        "from sklearn.metrics import accuracy_score, classification_report, confusion_matrix\n",
        "from sklearn.naive_bayes import GaussianNB\n",
        "\n",
        "# Evaluasi model Naive Bayes pada data training\n",
        "y_train_pred_nb = naive_bayes.predict(X_train_1)\n",
        "accuracy_train_nb = accuracy_score(y_train_1, y_train_pred_nb)\n",
        "print(\"Akurasi Naive Bayes pada Data Training:\", accuracy_train_nb)\n",
        "print(\"Classification Report Naive Bayes pada Data Training:\\n\", classification_report(y_train_1, y_train_pred_nb))\n",
        "print(\"Confusion Matrix Naive Bayes pada Data Training:\\n\", confusion_matrix(y_train_1, y_train_pred_nb))\n",
        "\n",
        "# Evaluasi model Naive Bayes pada data testing\n",
        "accuracy_test_nb = accuracy_score(y_test_1, y_pred)\n",
        "print(\"\\nAkurasi Naive Bayes pada Data Testing:\", accuracy_test_nb)\n",
        "print(\"Classification Report Naive Bayes pada Data Testing:\\n\", classification_report(y_test_1, y_pred))\n",
        "print(\"Confusion Matrix Naive Bayes pada Data Testing:\\n\", confusion_matrix(y_test_1, y_pred))\n",
        "\n",
        "# Evaluasi model SVM (Linear Kernel) pada data training\n",
        "y_train_pred = svm_classifier.predict(X_train_1)\n",
        "accuracy_train_classifier = accuracy_score(y_train_1, y_train_pred)\n",
        "print(\"\\nAkurasi SVM (Linear Kernel) pada Data Training:\", accuracy_train_classifier)\n",
        "print(\"Classification Report SVM (Linear Kernel) pada Data Training:\\n\", classification_report(y_train_1, y_train_pred))\n",
        "print(\"Confusion Matrix SVM (Linear Kernel) pada Data Training:\\n\", confusion_matrix(y_train_1, y_train_pred))\n"
      ],
      "metadata": {
        "colab": {
          "base_uri": "https://localhost:8080/"
        },
        "id": "e3giUNh1guhf",
        "outputId": "44dd3c7c-98fc-4580-fd1e-4d37e9651f9c"
      },
      "execution_count": null,
      "outputs": [
        {
          "output_type": "stream",
          "name": "stderr",
          "text": [
            "/usr/local/lib/python3.10/dist-packages/sklearn/base.py:439: UserWarning: X does not have valid feature names, but GaussianNB was fitted with feature names\n",
            "  warnings.warn(\n"
          ]
        },
        {
          "output_type": "stream",
          "name": "stdout",
          "text": [
            "Akurasi Naive Bayes pada Data Training: 0.11136734693877551\n",
            "Classification Report Naive Bayes pada Data Training:\n",
            "               precision    recall  f1-score   support\n",
            "\n",
            "           0       1.00      0.00      0.00      4845\n",
            "           1       0.86      0.00      0.00      5513\n",
            "           2       0.24      0.02      0.04      4857\n",
            "           3       0.17      0.02      0.03      4965\n",
            "           4       0.11      1.00      0.19      4888\n",
            "           5       0.09      0.04      0.05      4398\n",
            "           6       1.00      0.01      0.02      4788\n",
            "           7       1.00      0.03      0.05      5045\n",
            "           8       0.75      0.00      0.00      4833\n",
            "           9       0.11      0.01      0.01      4868\n",
            "\n",
            "    accuracy                           0.11     49000\n",
            "   macro avg       0.53      0.11      0.04     49000\n",
            "weighted avg       0.54      0.11      0.04     49000\n",
            "\n",
            "Confusion Matrix Naive Bayes pada Data Training:\n",
            " [[   3    0    1    0 4630  211    0    0    0    0]\n",
            " [   0    6    3    8 5455   41    0    0    0    0]\n",
            " [   0    1   96   74 4166  520    0    0    0    0]\n",
            " [   0    0    0   81 4259  625    0    0    0    0]\n",
            " [   0    0    0    0 4887    0    0    0    0    1]\n",
            " [   0    0    0    0 4230  168    0    0    0    0]\n",
            " [   0    0  297  251 4151   45   43    0    1    0]\n",
            " [   0    0    0   69 4413  185    0  136    1  241]\n",
            " [   0    0    0    0 4760   67    0    0    6    0]\n",
            " [   0    0    0    6 4735   96    0    0    0   31]]\n",
            "\n",
            "Akurasi Naive Bayes pada Data Testing: 0.92\n",
            "Classification Report Naive Bayes pada Data Testing:\n",
            "               precision    recall  f1-score   support\n",
            "\n",
            "           0       0.95      0.97      0.96      2058\n",
            "           1       0.95      0.98      0.96      2364\n",
            "           2       0.89      0.90      0.89      2133\n",
            "           3       0.88      0.91      0.89      2176\n",
            "           4       0.91      0.94      0.93      1936\n",
            "           5       0.89      0.88      0.89      1915\n",
            "           6       0.96      0.94      0.95      2088\n",
            "           7       0.94      0.94      0.94      2248\n",
            "           8       0.92      0.85      0.88      1992\n",
            "           9       0.92      0.88      0.90      2090\n",
            "\n",
            "    accuracy                           0.92     21000\n",
            "   macro avg       0.92      0.92      0.92     21000\n",
            "weighted avg       0.92      0.92      0.92     21000\n",
            "\n",
            "Confusion Matrix Naive Bayes pada Data Testing:\n",
            " [[1988    1    8    6    6   20   17    3    6    3]\n",
            " [   0 2316   11    8    1    5    1    5   12    5]\n",
            " [  21   36 1920   45   26    9   17   15   32   12]\n",
            " [  11    8   47 1980    6   61    1   16   29   17]\n",
            " [   4    6   21    5 1828    2    6    9    5   50]\n",
            " [  19   11   14   89   15 1692   26    3   35   11]\n",
            " [  13    7   42    5   28   34 1955    1    3    0]\n",
            " [   4    5   32   24   27    7    0 2103    4   42]\n",
            " [  19   42   47   71    3   65   16   10 1694   25]\n",
            " [  13   17   17   24   70    8    0   75   22 1844]]\n",
            "\n",
            "Akurasi SVM (Linear Kernel) pada Data Training: 0.987265306122449\n",
            "Classification Report SVM (Linear Kernel) pada Data Training:\n",
            "               precision    recall  f1-score   support\n",
            "\n",
            "           0       1.00      1.00      1.00      4845\n",
            "           1       0.99      1.00      1.00      5513\n",
            "           2       0.99      0.99      0.99      4857\n",
            "           3       0.98      0.98      0.98      4965\n",
            "           4       0.99      0.99      0.99      4888\n",
            "           5       0.98      0.98      0.98      4398\n",
            "           6       1.00      1.00      1.00      4788\n",
            "           7       0.99      0.98      0.99      5045\n",
            "           8       0.98      0.97      0.98      4833\n",
            "           9       0.98      0.97      0.98      4868\n",
            "\n",
            "    accuracy                           0.99     49000\n",
            "   macro avg       0.99      0.99      0.99     49000\n",
            "weighted avg       0.99      0.99      0.99     49000\n",
            "\n",
            "Confusion Matrix SVM (Linear Kernel) pada Data Training:\n",
            " [[4845    0    0    0    0    0    0    0    0    0]\n",
            " [   0 5512    0    0    0    0    0    0    1    0]\n",
            " [   3    4 4812   19    0    0    0    0   19    0]\n",
            " [   3    3   36 4852    0   44    0    0   26    1]\n",
            " [   0    3    0    0 4838    0    0    0    0   47]\n",
            " [   3    4    2   45    3 4317    1    0   21    2]\n",
            " [   0    0    0    0    0    1 4787    0    0    0]\n",
            " [   0    4    3    4    5    2    0 4968    0   59]\n",
            " [   6   13   13   49    2   40    1    0 4706    3]\n",
            " [   1    2    1    3   45    0    0   68    9 4739]]\n"
          ]
        }
      ]
    },
    {
      "cell_type": "code",
      "source": [
        "# Untuk Data (80 : 10)\n",
        "from sklearn.metrics import accuracy_score, classification_report, confusion_matrix\n",
        "from sklearn.naive_bayes import GaussianNB\n",
        "\n",
        "# Evaluasi model Naive Bayes pada data training\n",
        "y_train_pred_nb = naive_bayes.predict(X_train_2)\n",
        "accuracy_train_nb = accuracy_score(y_train_2, y_train_pred_nb)\n",
        "print(\"Akurasi Naive Bayes pada Data Training:\", accuracy_train_nb)\n",
        "print(\"Classification Report Naive Bayes pada Data Training:\\n\", classification_report(y_train_2, y_train_pred_nb))\n",
        "print(\"Confusion Matrix Naive Bayes pada Data Training:\\n\", confusion_matrix(y_train_2, y_train_pred_nb))\n",
        "\n",
        "# Evaluasi model Naive Bayes pada data testing\n",
        "accuracy_test_nb = accuracy_score(y_test_2, y_pred)\n",
        "print(\"\\nAkurasi Naive Bayes pada Data Testing:\", accuracy_test_nb)\n",
        "print(\"Classification Report Naive Bayes pada Data Testing:\\n\", classification_report(y_test_2, y_pred))\n",
        "print(\"Confusion Matrix Naive Bayes pada Data Testing:\\n\", confusion_matrix(y_test_2, y_pred))\n",
        "\n",
        "# Evaluasi model SVM (Linear Kernel) pada data training\n",
        "y_train_pred = svm_classifier.predict(X_train_2)\n",
        "accuracy_train_classifier = accuracy_score(y_train_2, y_train_pred)\n",
        "print(\"\\nAkurasi SVM (Linear Kernel) pada Data Training:\", accuracy_train_classifier)\n",
        "print(\"Classification Report SVM (Linear Kernel) pada Data Training:\\n\", classification_report(y_train_2, y_train_pred))\n",
        "print(\"Confusion Matrix SVM (Linear Kernel) pada Data Training:\\n\", confusion_matrix(y_train_2, y_train_pred))\n"
      ],
      "metadata": {
        "colab": {
          "base_uri": "https://localhost:8080/"
        },
        "id": "gQ4KO2onKQ9s",
        "outputId": "23540aa6-9d7b-432b-f06a-7497d9eb7f4d"
      },
      "execution_count": null,
      "outputs": [
        {
          "output_type": "stream",
          "name": "stdout",
          "text": [
            "Akurasi Naive Bayes pada Data Training: 0.5523571428571429\n",
            "Classification Report Naive Bayes pada Data Training:\n",
            "               precision    recall  f1-score   support\n",
            "\n",
            "           0       0.71      0.91      0.80      5560\n",
            "           1       0.80      0.94      0.87      6277\n",
            "           2       0.87      0.30      0.45      5610\n",
            "           3       0.76      0.34      0.47      5708\n",
            "           4       0.84      0.13      0.22      5529\n",
            "           5       0.59      0.04      0.07      5040\n",
            "           6       0.62      0.95      0.75      5480\n",
            "           7       0.91      0.29      0.44      5790\n",
            "           8       0.29      0.60      0.39      5468\n",
            "           9       0.37      0.95      0.53      5538\n",
            "\n",
            "    accuracy                           0.55     56000\n",
            "   macro avg       0.68      0.55      0.50     56000\n",
            "weighted avg       0.68      0.55      0.51     56000\n",
            "\n",
            "Confusion Matrix Naive Bayes pada Data Training:\n",
            " [[5079    8   29   18    6   12  167    2  136  103]\n",
            " [   2 5906   15   25    3    9   86    1  147   83]\n",
            " [ 564  143 1697  330   14   17 1485   18 1245   97]\n",
            " [ 428  283   52 1951   10    8  357   41 1933  645]\n",
            " [ 202   33   47   35  693   37  615   29 1115 2723]\n",
            " [ 666  122   26  110   21  201  326   10 2980  578]\n",
            " [  54   84   29    2    3   17 5185    0   99    7]\n",
            " [  25   43    9   50   36    6   22 1659  197 3743]\n",
            " [ 102  691   25   41   15   26  113    9 3294 1152]\n",
            " [  35   29   13    7   24    6    5   64   88 5267]]\n",
            "\n",
            "Akurasi Naive Bayes pada Data Testing: 0.9210714285714285\n",
            "Classification Report Naive Bayes pada Data Testing:\n",
            "               precision    recall  f1-score   support\n",
            "\n",
            "           0       0.95      0.97      0.96      1343\n",
            "           1       0.95      0.98      0.97      1600\n",
            "           2       0.89      0.92      0.90      1380\n",
            "           3       0.88      0.91      0.90      1433\n",
            "           4       0.90      0.94      0.92      1295\n",
            "           5       0.87      0.88      0.88      1273\n",
            "           6       0.96      0.93      0.94      1396\n",
            "           7       0.95      0.93      0.94      1503\n",
            "           8       0.92      0.85      0.88      1357\n",
            "           9       0.92      0.89      0.91      1420\n",
            "\n",
            "    accuracy                           0.92     14000\n",
            "   macro avg       0.92      0.92      0.92     14000\n",
            "weighted avg       0.92      0.92      0.92     14000\n",
            "\n",
            "Confusion Matrix Naive Bayes pada Data Testing:\n",
            " [[1299    1    4    1    3   14   10    2    7    2]\n",
            " [   0 1563    5    7    1    3    0    5   12    4]\n",
            " [   8   13 1269   22   16    8   10    7   22    5]\n",
            " [   3    3   35 1303    3   46    1    9   20   10]\n",
            " [   5    3   14    2 1215    4    5    6    3   38]\n",
            " [  12   10   12   52    9 1125   21    1   20   11]\n",
            " [  11    3   29    2   17   31 1300    1    2    0]\n",
            " [   1    6   24   13   23    7    0 1405    2   22]\n",
            " [  15   26   27   54    6   45   10   10 1151   13]\n",
            " [   7   11   10   18   50    8    0   40   11 1265]]\n"
          ]
        },
        {
          "output_type": "stream",
          "name": "stderr",
          "text": [
            "/usr/local/lib/python3.10/dist-packages/sklearn/base.py:432: UserWarning: X has feature names, but SVC was fitted without feature names\n",
            "  warnings.warn(\n"
          ]
        },
        {
          "output_type": "stream",
          "name": "stdout",
          "text": [
            "\n",
            "Akurasi SVM (Linear Kernel) pada Data Training: 0.8434464285714286\n",
            "Classification Report SVM (Linear Kernel) pada Data Training:\n",
            "               precision    recall  f1-score   support\n",
            "\n",
            "           0       0.88      1.00      0.93      5560\n",
            "           1       0.98      0.82      0.89      6277\n",
            "           2       0.95      0.80      0.87      5610\n",
            "           3       0.77      0.94      0.85      5708\n",
            "           4       0.86      0.95      0.90      5529\n",
            "           5       0.98      0.32      0.48      5040\n",
            "           6       0.94      0.95      0.94      5480\n",
            "           7       0.98      0.80      0.88      5790\n",
            "           8       0.57      0.98      0.72      5468\n",
            "           9       0.89      0.84      0.86      5538\n",
            "\n",
            "    accuracy                           0.84     56000\n",
            "   macro avg       0.88      0.84      0.83     56000\n",
            "weighted avg       0.88      0.84      0.84     56000\n",
            "\n",
            "Confusion Matrix SVM (Linear Kernel) pada Data Training:\n",
            " [[5533    0    2    6    3    1    3    0   11    1]\n",
            " [   2 5175   30   15    5    1   15    0 1031    3]\n",
            " [  88   51 4480  190  172    2  127   39  455    6]\n",
            " [  35    2   26 5351   14   20    5    7  239    9]\n",
            " [  21   12    4    5 5238    0   34    1   20  194]\n",
            " [ 395   26   44  809  127 1608  146    2 1784   99]\n",
            " [  84    5   40    8   87    2 5193    0   61    0]\n",
            " [  91   12   68  391  170    1    1 4612  160  284]\n",
            " [  22    6    2   39    6    0   13    0 5376    4]\n",
            " [  43   10   33  132  290    0    4   59  300 4667]]\n"
          ]
        }
      ]
    },
    {
      "cell_type": "code",
      "source": [
        "#Untuk data (90 : 10)\n",
        "from sklearn.metrics import accuracy_score, classification_report, confusion_matrix\n",
        "from sklearn.naive_bayes import GaussianNB\n",
        "\n",
        "# Evaluasi model Naive Bayes pada data training\n",
        "y_train_pred_nb = naive_bayes.predict(X_train_3)\n",
        "accuracy_train_nb = accuracy_score(y_train_3, y_train_pred_nb)\n",
        "print(\"Akurasi Naive Bayes pada Data Training:\", accuracy_train_nb)\n",
        "print(\"Classification Report Naive Bayes pada Data Training:\\n\", classification_report(y_train_3, y_train_pred_nb))\n",
        "print(\"Confusion Matrix Naive Bayes pada Data Training:\\n\", confusion_matrix(y_train_3, y_train_pred_nb))\n",
        "\n",
        "# Evaluasi model Naive Bayes pada data testing\n",
        "accuracy_test_nb = accuracy_score(y_test_3, y_pred)\n",
        "print(\"\\nAkurasi Naive Bayes pada Data Testing:\", accuracy_test_nb)\n",
        "print(\"Classification Report Naive Bayes pada Data Testing:\\n\", classification_report(y_test_3, y_pred))\n",
        "print(\"Confusion Matrix Naive Bayes pada Data Testing:\\n\", confusion_matrix(y_test_3, y_pred))\n",
        "\n",
        "# Evaluasi model SVM (Linear Kernel) pada data training\n",
        "y_train_pred = svm_classifier.predict(X_train_3)\n",
        "accuracy_train_classifier = accuracy_score(y_train_3, y_train_pred)\n",
        "print(\"\\nAkurasi SVM (Linear Kernel) pada Data Training:\", accuracy_train_classifier)\n",
        "print(\"Classification Report SVM (Linear Kernel) pada Data Training:\\n\", classification_report(y_train_3, y_train_pred))\n",
        "print(\"Confusion Matrix SVM (Linear Kernel) pada Data Training:\\n\", confusion_matrix(y_train_3, y_train_pred))\n"
      ],
      "metadata": {
        "colab": {
          "base_uri": "https://localhost:8080/"
        },
        "id": "DGaUl1iTL6dl",
        "outputId": "681ee9d2-be61-4eb6-9384-44bf6a03f5c9"
      },
      "execution_count": null,
      "outputs": [
        {
          "output_type": "stream",
          "name": "stderr",
          "text": [
            "/usr/local/lib/python3.10/dist-packages/sklearn/base.py:439: UserWarning: X does not have valid feature names, but GaussianNB was fitted with feature names\n",
            "  warnings.warn(\n"
          ]
        },
        {
          "output_type": "stream",
          "name": "stdout",
          "text": [
            "Akurasi Naive Bayes pada Data Training: 0.11010714285714286\n",
            "Classification Report Naive Bayes pada Data Training:\n",
            "               precision    recall  f1-score   support\n",
            "\n",
            "           0       1.00      0.00      0.00      5560\n",
            "           1       0.86      0.00      0.00      6277\n",
            "           2       0.25      0.02      0.03      5610\n",
            "           3       0.15      0.02      0.03      5708\n",
            "           4       0.11      1.00      0.19      5529\n",
            "           5       0.09      0.04      0.05      5040\n",
            "           6       1.00      0.01      0.02      5480\n",
            "           7       1.00      0.03      0.05      5790\n",
            "           8       0.67      0.00      0.00      5468\n",
            "           9       0.11      0.01      0.01      5538\n",
            "\n",
            "    accuracy                           0.11     56000\n",
            "   macro avg       0.52      0.11      0.04     56000\n",
            "weighted avg       0.53      0.11      0.04     56000\n",
            "\n",
            "Confusion Matrix Naive Bayes pada Data Training:\n",
            " [[   3    0    1    1 5314  241    0    0    0    0]\n",
            " [   0    6    5    7 6216   42    0    0    1    0]\n",
            " [   0    1   93  100 4838  578    0    0    0    0]\n",
            " [   0    0    0   96 4890  722    0    0    0    0]\n",
            " [   0    0    0    1 5527    0    0    0    0    1]\n",
            " [   0    0    0    1 4844  195    0    0    0    0]\n",
            " [   0    0  278  360 4745   46   50    0    1    0]\n",
            " [   0    0    0   52 5092  213    0  156    1  276]\n",
            " [   0    0    0    0 5383   79    0    0    6    0]\n",
            " [   0    0    1    6 5388  109    0    0    0   34]]\n",
            "\n",
            "Akurasi Naive Bayes pada Data Testing: 0.9210714285714285\n",
            "Classification Report Naive Bayes pada Data Testing:\n",
            "               precision    recall  f1-score   support\n",
            "\n",
            "           0       0.95      0.97      0.96      1343\n",
            "           1       0.95      0.98      0.97      1600\n",
            "           2       0.89      0.92      0.90      1380\n",
            "           3       0.88      0.91      0.90      1433\n",
            "           4       0.90      0.94      0.92      1295\n",
            "           5       0.87      0.88      0.88      1273\n",
            "           6       0.96      0.93      0.94      1396\n",
            "           7       0.95      0.93      0.94      1503\n",
            "           8       0.92      0.85      0.88      1357\n",
            "           9       0.92      0.89      0.91      1420\n",
            "\n",
            "    accuracy                           0.92     14000\n",
            "   macro avg       0.92      0.92      0.92     14000\n",
            "weighted avg       0.92      0.92      0.92     14000\n",
            "\n",
            "Confusion Matrix Naive Bayes pada Data Testing:\n",
            " [[1299    1    4    1    3   14   10    2    7    2]\n",
            " [   0 1563    5    7    1    3    0    5   12    4]\n",
            " [   8   13 1269   22   16    8   10    7   22    5]\n",
            " [   3    3   35 1303    3   46    1    9   20   10]\n",
            " [   5    3   14    2 1215    4    5    6    3   38]\n",
            " [  12   10   12   52    9 1125   21    1   20   11]\n",
            " [  11    3   29    2   17   31 1300    1    2    0]\n",
            " [   1    6   24   13   23    7    0 1405    2   22]\n",
            " [  15   26   27   54    6   45   10   10 1151   13]\n",
            " [   7   11   10   18   50    8    0   40   11 1265]]\n",
            "\n",
            "Akurasi SVM (Linear Kernel) pada Data Training: 0.9841428571428571\n",
            "Classification Report SVM (Linear Kernel) pada Data Training:\n",
            "               precision    recall  f1-score   support\n",
            "\n",
            "           0       1.00      1.00      1.00      5560\n",
            "           1       0.99      1.00      1.00      6277\n",
            "           2       0.99      0.99      0.99      5610\n",
            "           3       0.97      0.97      0.97      5708\n",
            "           4       0.98      0.99      0.99      5529\n",
            "           5       0.97      0.97      0.97      5040\n",
            "           6       1.00      1.00      1.00      5480\n",
            "           7       0.99      0.98      0.98      5790\n",
            "           8       0.98      0.97      0.97      5468\n",
            "           9       0.97      0.97      0.97      5538\n",
            "\n",
            "    accuracy                           0.98     56000\n",
            "   macro avg       0.98      0.98      0.98     56000\n",
            "weighted avg       0.98      0.98      0.98     56000\n",
            "\n",
            "Confusion Matrix SVM (Linear Kernel) pada Data Training:\n",
            " [[5559    0    0    0    0    0    0    0    1    0]\n",
            " [   1 6273    0    0    0    0    0    0    3    0]\n",
            " [   4    3 5557   22    2    0    1    0   21    0]\n",
            " [   3    4   45 5550    1   67    0    0   32    6]\n",
            " [   0    4    1    0 5470    0    0    0    0   54]\n",
            " [   6    5    5   81    9 4896    7    0   28    3]\n",
            " [   0    0    1    0    0    5 5474    0    0    0]\n",
            " [   0    4    8    7   12    0    0 5685    0   74]\n",
            " [   8   21   18   64    4   59    2    1 5284    7]\n",
            " [   3    5    1    6   62    3    0   85    9 5364]]\n"
          ]
        }
      ]
    },
    {
      "cell_type": "markdown",
      "source": [
        "no 7"
      ],
      "metadata": {
        "id": "OGSxe6eXCrFo"
      }
    },
    {
      "cell_type": "code",
      "source": [
        "# Klasifikasi dengan Naive Bayes (70 : 30)\n",
        "naive_bayes = GaussianNB()\n",
        "naive_bayes.fit(X_train_1, y_train_1)\n",
        "y_pred_nb = naive_bayes.predict(X_test_1)\n",
        "accuracy_nb = accuracy_score(y_test_1, y_pred_nb)\n",
        "print(\"Akurasi Naive Bayes:\", accuracy_nb)"
      ],
      "metadata": {
        "id": "lNmtw72yCNCf",
        "outputId": "c41b111e-d9a0-48df-f519-2984f859f6ac",
        "colab": {
          "base_uri": "https://localhost:8080/"
        }
      },
      "execution_count": null,
      "outputs": [
        {
          "output_type": "stream",
          "name": "stdout",
          "text": [
            "Akurasi Naive Bayes: 0.5264285714285715\n"
          ]
        }
      ]
    },
    {
      "cell_type": "code",
      "source": [
        "# Klasifikasi dengan Naive Bayes (80 : 20)\n",
        "naive_bayes = GaussianNB()\n",
        "naive_bayes.fit(X_train_2, y_train_2)\n",
        "y_pred_nb = naive_bayes.predict(X_test_2)\n",
        "accuracy_nb = accuracy_score(y_test_2, y_pred_nb)\n",
        "print(\"Akurasi Naive Bayes:\", accuracy_nb)"
      ],
      "metadata": {
        "colab": {
          "base_uri": "https://localhost:8080/"
        },
        "id": "TgR0Rl32N0Gr",
        "outputId": "64ecc750-abd1-4f23-e182-7d608c3d8e35"
      },
      "execution_count": null,
      "outputs": [
        {
          "output_type": "stream",
          "name": "stdout",
          "text": [
            "Akurasi Naive Bayes: 0.5515714285714286\n"
          ]
        }
      ]
    },
    {
      "cell_type": "code",
      "source": [
        "# Klasifikasi dengan Naive Bayes (90 : 10)\n",
        "naive_bayes = GaussianNB()\n",
        "naive_bayes.fit(X_train_3, y_train_3)\n",
        "y_pred_nb = naive_bayes.predict(X_test_3)\n",
        "accuracy_nb = accuracy_score(y_test_3, y_pred_nb)\n",
        "print(\"Akurasi Naive Bayes:\",accuracy_nb)"
      ],
      "metadata": {
        "colab": {
          "base_uri": "https://localhost:8080/"
        },
        "id": "-nI2OvQZDMMG",
        "outputId": "7491f08a-2566-44b1-f87c-8f35c31284c8"
      },
      "execution_count": null,
      "outputs": [
        {
          "output_type": "stream",
          "name": "stdout",
          "text": [
            "Akurasi Naive Bayes: 0.5515714285714286\n"
          ]
        }
      ]
    },
    {
      "cell_type": "code",
      "source": [
        "import numpy as np\n",
        "import matplotlib.pyplot as plt\n",
        "from sklearn.datasets import fetch_openml\n",
        "from sklearn.model_selection import train_test_split\n",
        "from sklearn.svm import SVC\n",
        "\n",
        "# Unduh dataset MNIST\n",
        "\n",
        "# Bagi dataset menjadi data training dan data testing\n",
        "X_train, X_test, y_train, y_test = train_test_split(X, y, test_size=0.3, random_state=42)\n",
        "\n",
        "# Klasifikasi menggunakan SVM sebagai contoh\n",
        "svm_classifier = SVC(kernel='linear')\n",
        "svm_classifier.fit(X_train, y_train)\n",
        "y_pred_svm = svm_classifier.predict(X_test)\n",
        "\n",
        "# Tampilkan 15 citra data testing berserta hasil pelabelannya\n",
        "fig, axes = plt.subplots(3, 5, figsize=(10, 6))\n",
        "for i, ax in enumerate(axes.ravel()):\n",
        "    ax.imshow(X_test[i].reshape(28, 28), cmap=plt.cm.gray)\n",
        "    ax.set_title(f\"True: {y_test[i]}\\nPred: {y_pred_svm[i]}\")\n",
        "    ax.axis('off')\n",
        "\n",
        "plt.tight_layout()\n",
        "plt.show()\n"
      ],
      "metadata": {
        "id": "QSc5O0bUXvGQ"
      },
      "execution_count": null,
      "outputs": []
    }
  ]
}